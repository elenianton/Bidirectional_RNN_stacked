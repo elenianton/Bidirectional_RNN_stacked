{
  "nbformat": 4,
  "nbformat_minor": 0,
  "metadata": {
    "colab": {
      "name": "Exercise3_Antonakaki_Eleni.ipynb",
      "provenance": [],
      "collapsed_sections": []
    },
    "kernelspec": {
      "name": "python3",
      "display_name": "Python 3"
    },
    "language_info": {
      "name": "python"
    }
  },
  "cells": [
    {
      "cell_type": "markdown",
      "source": [
        "\" AI II \"\n",
        "\n",
        "Master Language Tecnology\n",
        "\n",
        "Name: Antonakaki Eleni\n",
        "\n",
        "AM: Lt1200002\n"
      ],
      "metadata": {
        "id": "53BRRoELrRQn"
      }
    },
    {
      "cell_type": "markdown",
      "source": [
        "**1. Import all necessery libraries**"
      ],
      "metadata": {
        "id": "JBWV5sM-rBWx"
      }
    },
    {
      "cell_type": "code",
      "execution_count": 1,
      "metadata": {
        "id": "DZ9ounwnqvFy"
      },
      "outputs": [],
      "source": [
        "import numpy as np \n",
        "import pandas as pd \n",
        "import os\n",
        "import matplotlib.pyplot as plt\n",
        "import random\n",
        "import torch\n",
        "import torch.nn as nn\n",
        "import torch.nn.functional as F\n",
        "import torchtext\n",
        "import torch.optim as optim\n",
        "from torchtext import data\n",
        "import nltk\n",
        "from nltk.corpus import stopwords\n",
        "from nltk.stem import PorterStemmer\n",
        "import matplotlib.pyplot as plt\n",
        "import re\n",
        "import spacy\n",
        "import seaborn as sns\n",
        "from tqdm import tqdm\n",
        "import pickle\n",
        "from sklearn.metrics import f1_score\n",
        "from sklearn.metrics import precision_score\n",
        "from sklearn.metrics import accuracy_score\n",
        "from sklearn.metrics import recall_score\n",
        "from sklearn.metrics import classification_report\n",
        "from sklearn.preprocessing import label_binarize\n",
        "from scipy import interp\n",
        "from itertools import cycle\n",
        "import torch.nn.functional as F\n",
        "from sklearn.metrics import roc_auc_score\n",
        "from sklearn.metrics import roc_curve, auc"
      ]
    },
    {
      "cell_type": "code",
      "source": [
        "def set_seed(seed):\n",
        "    '''Sets the seed of the entire notebook so results are the same every time we run.\n",
        "    This is for REPRODUCIBILITY.'''\n",
        "    np.random.seed(seed)\n",
        "    random.seed(seed)\n",
        "    torch.manual_seed(seed)\n",
        "    torch.cuda.manual_seed(seed)\n",
        "    # When running on the CuDNN backend, two further options must be set\n",
        "    torch.backends.cudnn.deterministic = True\n",
        "    # Set a fixed value for the hash seed\n",
        "    os.environ['PYTHONHASHSEED'] = str(seed)\n",
        "    \n",
        "set_seed(25)"
      ],
      "metadata": {
        "id": "iS_iS6q4_sCc"
      },
      "execution_count": 2,
      "outputs": []
    },
    {
      "cell_type": "code",
      "source": [
        "#set device\n",
        "\n",
        "cuda = True\n",
        "device = torch.device(\"cuda\" if (\n",
        "    torch.cuda.is_available() and cuda) else \"cpu\")\n",
        "\n",
        "torch.set_default_tensor_type(\"torch.FloatTensor\")\n",
        "if device.type == \"cuda\":\n",
        "    torch.set_default_tensor_type(\"torch.cuda.FloatTensor\")\n",
        "print (device)"
      ],
      "metadata": {
        "id": "63RjPcOeL_C4",
        "colab": {
          "base_uri": "https://localhost:8080/"
        },
        "outputId": "5d7cbf45-ad56-4ead-cfb6-40971c0e38c2"
      },
      "execution_count": 3,
      "outputs": [
        {
          "output_type": "stream",
          "name": "stdout",
          "text": [
            "cpu\n"
          ]
        }
      ]
    },
    {
      "cell_type": "code",
      "source": [
        "nltk.download('stopwords')\n",
        "nltk.download('punkt')"
      ],
      "metadata": {
        "id": "X9YsnOdl_22k",
        "colab": {
          "base_uri": "https://localhost:8080/"
        },
        "outputId": "b24c06b6-4bfa-4ac4-d7c7-83ac502cd9b9"
      },
      "execution_count": 4,
      "outputs": [
        {
          "output_type": "stream",
          "name": "stdout",
          "text": [
            "[nltk_data] Downloading package stopwords to /root/nltk_data...\n",
            "[nltk_data]   Package stopwords is already up-to-date!\n",
            "[nltk_data] Downloading package punkt to /root/nltk_data...\n",
            "[nltk_data]   Package punkt is already up-to-date!\n"
          ]
        },
        {
          "output_type": "execute_result",
          "data": {
            "text/plain": [
              "True"
            ]
          },
          "metadata": {},
          "execution_count": 4
        }
      ]
    },
    {
      "cell_type": "markdown",
      "source": [
        "**2 a) Load train data as dataframe**\n"
      ],
      "metadata": {
        "id": "c_Nm98h8skCf"
      }
    },
    {
      "cell_type": "code",
      "source": [
        "#loading the data\n",
        "tweets_train = pd.read_csv(\"vaccine_train_set.csv\")\n",
        "print(tweets_train.shape)\n",
        "tweets_train.head()"
      ],
      "metadata": {
        "id": "3L4Km5nvsq_w",
        "colab": {
          "base_uri": "https://localhost:8080/",
          "height": 224
        },
        "outputId": "4dc7079b-b8dc-4b00-a729-a3376d70fbe1"
      },
      "execution_count": 5,
      "outputs": [
        {
          "output_type": "stream",
          "name": "stdout",
          "text": [
            "(15976, 3)\n"
          ]
        },
        {
          "output_type": "execute_result",
          "data": {
            "text/html": [
              "\n",
              "  <div id=\"df-587d794e-a967-4a40-8420-7b553d2f6d13\">\n",
              "    <div class=\"colab-df-container\">\n",
              "      <div>\n",
              "<style scoped>\n",
              "    .dataframe tbody tr th:only-of-type {\n",
              "        vertical-align: middle;\n",
              "    }\n",
              "\n",
              "    .dataframe tbody tr th {\n",
              "        vertical-align: top;\n",
              "    }\n",
              "\n",
              "    .dataframe thead th {\n",
              "        text-align: right;\n",
              "    }\n",
              "</style>\n",
              "<table border=\"1\" class=\"dataframe\">\n",
              "  <thead>\n",
              "    <tr style=\"text-align: right;\">\n",
              "      <th></th>\n",
              "      <th>Unnamed: 0</th>\n",
              "      <th>tweet</th>\n",
              "      <th>label</th>\n",
              "    </tr>\n",
              "  </thead>\n",
              "  <tbody>\n",
              "    <tr>\n",
              "      <th>0</th>\n",
              "      <td>0</td>\n",
              "      <td>Sip N Shop Come thru right now #Marjais #Popul...</td>\n",
              "      <td>0</td>\n",
              "    </tr>\n",
              "    <tr>\n",
              "      <th>1</th>\n",
              "      <td>1</td>\n",
              "      <td>I don't know about you but My family and I wil...</td>\n",
              "      <td>1</td>\n",
              "    </tr>\n",
              "    <tr>\n",
              "      <th>2</th>\n",
              "      <td>2</td>\n",
              "      <td>@MSignorile Immunizations should be mandatory....</td>\n",
              "      <td>2</td>\n",
              "    </tr>\n",
              "    <tr>\n",
              "      <th>3</th>\n",
              "      <td>3</td>\n",
              "      <td>President Obama spoke in favor of vaccination ...</td>\n",
              "      <td>0</td>\n",
              "    </tr>\n",
              "    <tr>\n",
              "      <th>4</th>\n",
              "      <td>4</td>\n",
              "      <td>\"@myfoxla: Arizona monitoring hundreds for mea...</td>\n",
              "      <td>0</td>\n",
              "    </tr>\n",
              "  </tbody>\n",
              "</table>\n",
              "</div>\n",
              "      <button class=\"colab-df-convert\" onclick=\"convertToInteractive('df-587d794e-a967-4a40-8420-7b553d2f6d13')\"\n",
              "              title=\"Convert this dataframe to an interactive table.\"\n",
              "              style=\"display:none;\">\n",
              "        \n",
              "  <svg xmlns=\"http://www.w3.org/2000/svg\" height=\"24px\"viewBox=\"0 0 24 24\"\n",
              "       width=\"24px\">\n",
              "    <path d=\"M0 0h24v24H0V0z\" fill=\"none\"/>\n",
              "    <path d=\"M18.56 5.44l.94 2.06.94-2.06 2.06-.94-2.06-.94-.94-2.06-.94 2.06-2.06.94zm-11 1L8.5 8.5l.94-2.06 2.06-.94-2.06-.94L8.5 2.5l-.94 2.06-2.06.94zm10 10l.94 2.06.94-2.06 2.06-.94-2.06-.94-.94-2.06-.94 2.06-2.06.94z\"/><path d=\"M17.41 7.96l-1.37-1.37c-.4-.4-.92-.59-1.43-.59-.52 0-1.04.2-1.43.59L10.3 9.45l-7.72 7.72c-.78.78-.78 2.05 0 2.83L4 21.41c.39.39.9.59 1.41.59.51 0 1.02-.2 1.41-.59l7.78-7.78 2.81-2.81c.8-.78.8-2.07 0-2.86zM5.41 20L4 18.59l7.72-7.72 1.47 1.35L5.41 20z\"/>\n",
              "  </svg>\n",
              "      </button>\n",
              "      \n",
              "  <style>\n",
              "    .colab-df-container {\n",
              "      display:flex;\n",
              "      flex-wrap:wrap;\n",
              "      gap: 12px;\n",
              "    }\n",
              "\n",
              "    .colab-df-convert {\n",
              "      background-color: #E8F0FE;\n",
              "      border: none;\n",
              "      border-radius: 50%;\n",
              "      cursor: pointer;\n",
              "      display: none;\n",
              "      fill: #1967D2;\n",
              "      height: 32px;\n",
              "      padding: 0 0 0 0;\n",
              "      width: 32px;\n",
              "    }\n",
              "\n",
              "    .colab-df-convert:hover {\n",
              "      background-color: #E2EBFA;\n",
              "      box-shadow: 0px 1px 2px rgba(60, 64, 67, 0.3), 0px 1px 3px 1px rgba(60, 64, 67, 0.15);\n",
              "      fill: #174EA6;\n",
              "    }\n",
              "\n",
              "    [theme=dark] .colab-df-convert {\n",
              "      background-color: #3B4455;\n",
              "      fill: #D2E3FC;\n",
              "    }\n",
              "\n",
              "    [theme=dark] .colab-df-convert:hover {\n",
              "      background-color: #434B5C;\n",
              "      box-shadow: 0px 1px 3px 1px rgba(0, 0, 0, 0.15);\n",
              "      filter: drop-shadow(0px 1px 2px rgba(0, 0, 0, 0.3));\n",
              "      fill: #FFFFFF;\n",
              "    }\n",
              "  </style>\n",
              "\n",
              "      <script>\n",
              "        const buttonEl =\n",
              "          document.querySelector('#df-587d794e-a967-4a40-8420-7b553d2f6d13 button.colab-df-convert');\n",
              "        buttonEl.style.display =\n",
              "          google.colab.kernel.accessAllowed ? 'block' : 'none';\n",
              "\n",
              "        async function convertToInteractive(key) {\n",
              "          const element = document.querySelector('#df-587d794e-a967-4a40-8420-7b553d2f6d13');\n",
              "          const dataTable =\n",
              "            await google.colab.kernel.invokeFunction('convertToInteractive',\n",
              "                                                     [key], {});\n",
              "          if (!dataTable) return;\n",
              "\n",
              "          const docLinkHtml = 'Like what you see? Visit the ' +\n",
              "            '<a target=\"_blank\" href=https://colab.research.google.com/notebooks/data_table.ipynb>data table notebook</a>'\n",
              "            + ' to learn more about interactive tables.';\n",
              "          element.innerHTML = '';\n",
              "          dataTable['output_type'] = 'display_data';\n",
              "          await google.colab.output.renderOutput(dataTable, element);\n",
              "          const docLink = document.createElement('div');\n",
              "          docLink.innerHTML = docLinkHtml;\n",
              "          element.appendChild(docLink);\n",
              "        }\n",
              "      </script>\n",
              "    </div>\n",
              "  </div>\n",
              "  "
            ],
            "text/plain": [
              "   Unnamed: 0                                              tweet  label\n",
              "0           0  Sip N Shop Come thru right now #Marjais #Popul...      0\n",
              "1           1  I don't know about you but My family and I wil...      1\n",
              "2           2  @MSignorile Immunizations should be mandatory....      2\n",
              "3           3  President Obama spoke in favor of vaccination ...      0\n",
              "4           4  \"@myfoxla: Arizona monitoring hundreds for mea...      0"
            ]
          },
          "metadata": {},
          "execution_count": 5
        }
      ]
    },
    {
      "cell_type": "code",
      "source": [
        "#analysing labels\n",
        "\n",
        "print(tweets_train.groupby(['label']).size())\n",
        "\n",
        "dd = pd.Series(tweets_train['label']).value_counts()\n",
        "sns.barplot(x=np.array(['0','2','1']),y= dd.values)\n",
        "plt.show()"
      ],
      "metadata": {
        "id": "3JZ1oMf0FtFv",
        "colab": {
          "base_uri": "https://localhost:8080/",
          "height": 352
        },
        "outputId": "9ffb7564-1bf4-4b5d-95d9-d138a8b2e528"
      },
      "execution_count": 6,
      "outputs": [
        {
          "output_type": "stream",
          "name": "stdout",
          "text": [
            "label\n",
            "0    7458\n",
            "1    2073\n",
            "2    6445\n",
            "dtype: int64\n"
          ]
        },
        {
          "output_type": "display_data",
          "data": {
            "image/png": "[encoded data removed]",
            "text/plain": [
              "<Figure size 432x288 with 1 Axes>"
            ]
          },
          "metadata": {
            "needs_background": "light"
          }
        }
      ]
    },
    {
      "cell_type": "markdown",
      "source": [
        " **2 b) Load validation data as dataframe**"
      ],
      "metadata": {
        "id": "6bqaenSiwDto"
      }
    },
    {
      "cell_type": "code",
      "source": [
        "tweets_val = pd.read_csv(\"vaccine_validation_set.csv\")\n",
        "print(tweets_val.shape)\n",
        "tweets_val.head()"
      ],
      "metadata": {
        "id": "vx_AO1C0v43o",
        "colab": {
          "base_uri": "https://localhost:8080/",
          "height": 224
        },
        "outputId": "c250500d-fd22-4788-ff31-9ebda89fe483"
      },
      "execution_count": 7,
      "outputs": [
        {
          "output_type": "stream",
          "name": "stdout",
          "text": [
            "(2282, 3)\n"
          ]
        },
        {
          "output_type": "execute_result",
          "data": {
            "text/html": [
              "\n",
              "  <div id=\"df-01f95a5f-0cd7-45ed-887c-6d06ea140833\">\n",
              "    <div class=\"colab-df-container\">\n",
              "      <div>\n",
              "<style scoped>\n",
              "    .dataframe tbody tr th:only-of-type {\n",
              "        vertical-align: middle;\n",
              "    }\n",
              "\n",
              "    .dataframe tbody tr th {\n",
              "        vertical-align: top;\n",
              "    }\n",
              "\n",
              "    .dataframe thead th {\n",
              "        text-align: right;\n",
              "    }\n",
              "</style>\n",
              "<table border=\"1\" class=\"dataframe\">\n",
              "  <thead>\n",
              "    <tr style=\"text-align: right;\">\n",
              "      <th></th>\n",
              "      <th>Unnamed: 0</th>\n",
              "      <th>tweet</th>\n",
              "      <th>label</th>\n",
              "    </tr>\n",
              "  </thead>\n",
              "  <tbody>\n",
              "    <tr>\n",
              "      <th>0</th>\n",
              "      <td>0</td>\n",
              "      <td>@user They had a massive surge in with covid d...</td>\n",
              "      <td>1</td>\n",
              "    </tr>\n",
              "    <tr>\n",
              "      <th>1</th>\n",
              "      <td>1</td>\n",
              "      <td>Required vaccines for school: Parents and guar...</td>\n",
              "      <td>0</td>\n",
              "    </tr>\n",
              "    <tr>\n",
              "      <th>2</th>\n",
              "      <td>2</td>\n",
              "      <td>“@KCStar: Two more Johnson County children hav...</td>\n",
              "      <td>0</td>\n",
              "    </tr>\n",
              "    <tr>\n",
              "      <th>3</th>\n",
              "      <td>3</td>\n",
              "      <td>NV can do better. Which states are the best (a...</td>\n",
              "      <td>2</td>\n",
              "    </tr>\n",
              "    <tr>\n",
              "      <th>4</th>\n",
              "      <td>4</td>\n",
              "      <td>Nothing like killing ourselves w/ our own fear...</td>\n",
              "      <td>2</td>\n",
              "    </tr>\n",
              "  </tbody>\n",
              "</table>\n",
              "</div>\n",
              "      <button class=\"colab-df-convert\" onclick=\"convertToInteractive('df-01f95a5f-0cd7-45ed-887c-6d06ea140833')\"\n",
              "              title=\"Convert this dataframe to an interactive table.\"\n",
              "              style=\"display:none;\">\n",
              "        \n",
              "  <svg xmlns=\"http://www.w3.org/2000/svg\" height=\"24px\"viewBox=\"0 0 24 24\"\n",
              "       width=\"24px\">\n",
              "    <path d=\"M0 0h24v24H0V0z\" fill=\"none\"/>\n",
              "    <path d=\"M18.56 5.44l.94 2.06.94-2.06 2.06-.94-2.06-.94-.94-2.06-.94 2.06-2.06.94zm-11 1L8.5 8.5l.94-2.06 2.06-.94-2.06-.94L8.5 2.5l-.94 2.06-2.06.94zm10 10l.94 2.06.94-2.06 2.06-.94-2.06-.94-.94-2.06-.94 2.06-2.06.94z\"/><path d=\"M17.41 7.96l-1.37-1.37c-.4-.4-.92-.59-1.43-.59-.52 0-1.04.2-1.43.59L10.3 9.45l-7.72 7.72c-.78.78-.78 2.05 0 2.83L4 21.41c.39.39.9.59 1.41.59.51 0 1.02-.2 1.41-.59l7.78-7.78 2.81-2.81c.8-.78.8-2.07 0-2.86zM5.41 20L4 18.59l7.72-7.72 1.47 1.35L5.41 20z\"/>\n",
              "  </svg>\n",
              "      </button>\n",
              "      \n",
              "  <style>\n",
              "    .colab-df-container {\n",
              "      display:flex;\n",
              "      flex-wrap:wrap;\n",
              "      gap: 12px;\n",
              "    }\n",
              "\n",
              "    .colab-df-convert {\n",
              "      background-color: #E8F0FE;\n",
              "      border: none;\n",
              "      border-radius: 50%;\n",
              "      cursor: pointer;\n",
              "      display: none;\n",
              "      fill: #1967D2;\n",
              "      height: 32px;\n",
              "      padding: 0 0 0 0;\n",
              "      width: 32px;\n",
              "    }\n",
              "\n",
              "    .colab-df-convert:hover {\n",
              "      background-color: #E2EBFA;\n",
              "      box-shadow: 0px 1px 2px rgba(60, 64, 67, 0.3), 0px 1px 3px 1px rgba(60, 64, 67, 0.15);\n",
              "      fill: #174EA6;\n",
              "    }\n",
              "\n",
              "    [theme=dark] .colab-df-convert {\n",
              "      background-color: #3B4455;\n",
              "      fill: #D2E3FC;\n",
              "    }\n",
              "\n",
              "    [theme=dark] .colab-df-convert:hover {\n",
              "      background-color: #434B5C;\n",
              "      box-shadow: 0px 1px 3px 1px rgba(0, 0, 0, 0.15);\n",
              "      filter: drop-shadow(0px 1px 2px rgba(0, 0, 0, 0.3));\n",
              "      fill: #FFFFFF;\n",
              "    }\n",
              "  </style>\n",
              "\n",
              "      <script>\n",
              "        const buttonEl =\n",
              "          document.querySelector('#df-01f95a5f-0cd7-45ed-887c-6d06ea140833 button.colab-df-convert');\n",
              "        buttonEl.style.display =\n",
              "          google.colab.kernel.accessAllowed ? 'block' : 'none';\n",
              "\n",
              "        async function convertToInteractive(key) {\n",
              "          const element = document.querySelector('#df-01f95a5f-0cd7-45ed-887c-6d06ea140833');\n",
              "          const dataTable =\n",
              "            await google.colab.kernel.invokeFunction('convertToInteractive',\n",
              "                                                     [key], {});\n",
              "          if (!dataTable) return;\n",
              "\n",
              "          const docLinkHtml = 'Like what you see? Visit the ' +\n",
              "            '<a target=\"_blank\" href=https://colab.research.google.com/notebooks/data_table.ipynb>data table notebook</a>'\n",
              "            + ' to learn more about interactive tables.';\n",
              "          element.innerHTML = '';\n",
              "          dataTable['output_type'] = 'display_data';\n",
              "          await google.colab.output.renderOutput(dataTable, element);\n",
              "          const docLink = document.createElement('div');\n",
              "          docLink.innerHTML = docLinkHtml;\n",
              "          element.appendChild(docLink);\n",
              "        }\n",
              "      </script>\n",
              "    </div>\n",
              "  </div>\n",
              "  "
            ],
            "text/plain": [
              "   Unnamed: 0                                              tweet  label\n",
              "0           0  @user They had a massive surge in with covid d...      1\n",
              "1           1  Required vaccines for school: Parents and guar...      0\n",
              "2           2  “@KCStar: Two more Johnson County children hav...      0\n",
              "3           3  NV can do better. Which states are the best (a...      2\n",
              "4           4  Nothing like killing ourselves w/ our own fear...      2"
            ]
          },
          "metadata": {},
          "execution_count": 7
        }
      ]
    },
    {
      "cell_type": "markdown",
      "source": [
        "**3. Processing**\n",
        "\n",
        "1. remove punctuation\n",
        "2. remove emoticons\n",
        "3. lowercasing\n",
        "4. remove stopwords\n",
        "5. Porter Stemmer"
      ],
      "metadata": {
        "id": "WFUa7T7tu1op"
      }
    },
    {
      "cell_type": "code",
      "execution_count": 8,
      "metadata": {
        "id": "v8lWzTT2rWzt"
      },
      "outputs": [],
      "source": [
        "#process data\n",
        "\n",
        "tweets_train['tweet'].fillna('')\n",
        "\n",
        "def preprocess_text(text):\n",
        "                \n",
        "        TAG_RE = re.compile(r'<[^>]+>_-@')\n",
        "        no_tags = TAG_RE.sub('',text) \n",
        "        text = re.sub('<[^>]*>_@-', '', no_tags)        \n",
        "        text = re.sub('_','',text) \n",
        "        emoticons = re.findall('(?::|;|=)(?:-)?(?:\\)|\\(|D|P)', text)\n",
        "        text = re.sub('[\\W]+', ' ', text.lower()) + \" \".join(emoticons).replace('-', '')\n",
        "        text = re.sub(r'\\d+', '', text)\n",
        "\n",
        "        return text\n",
        "\n",
        "def remove_stopwords(text):\n",
        "\n",
        "    text = nltk.word_tokenize(text)\n",
        "    text = [w for w in text if not w in stop_words]\n",
        "    #text= ' '.join(text)\n",
        "      \n",
        "    return text\n",
        "\n",
        "\n",
        "stop_words = set(stopwords.words('english'))\n",
        "\n",
        "stemming = PorterStemmer()\n",
        "def porterstemmer(text):\n",
        "    return \" \".join([stemming.stem(w) for w in text])\n"
      ]
    },
    {
      "cell_type": "code",
      "execution_count": 9,
      "metadata": {
        "id": "6FScuC0wtiqd",
        "colab": {
          "base_uri": "https://localhost:8080/",
          "height": 206
        },
        "outputId": "90c192ca-755e-4165-a766-593f8e81fde7"
      },
      "outputs": [
        {
          "output_type": "execute_result",
          "data": {
            "text/html": [
              "\n",
              "  <div id=\"df-19954992-2130-4d50-8cd6-701e4bd4ead8\">\n",
              "    <div class=\"colab-df-container\">\n",
              "      <div>\n",
              "<style scoped>\n",
              "    .dataframe tbody tr th:only-of-type {\n",
              "        vertical-align: middle;\n",
              "    }\n",
              "\n",
              "    .dataframe tbody tr th {\n",
              "        vertical-align: top;\n",
              "    }\n",
              "\n",
              "    .dataframe thead th {\n",
              "        text-align: right;\n",
              "    }\n",
              "</style>\n",
              "<table border=\"1\" class=\"dataframe\">\n",
              "  <thead>\n",
              "    <tr style=\"text-align: right;\">\n",
              "      <th></th>\n",
              "      <th>Unnamed: 0</th>\n",
              "      <th>tweet</th>\n",
              "      <th>label</th>\n",
              "    </tr>\n",
              "  </thead>\n",
              "  <tbody>\n",
              "    <tr>\n",
              "      <th>0</th>\n",
              "      <td>0</td>\n",
              "      <td>sip n shop come thru right marjai popularnobod...</td>\n",
              "      <td>0</td>\n",
              "    </tr>\n",
              "    <tr>\n",
              "      <th>1</th>\n",
              "      <td>1</td>\n",
              "      <td>know famili take covid vaccin anytim soon</td>\n",
              "      <td>1</td>\n",
              "    </tr>\n",
              "    <tr>\n",
              "      <th>2</th>\n",
              "      <td>2</td>\n",
              "      <td>msignoril immun mandatori period oklahoma let ...</td>\n",
              "      <td>2</td>\n",
              "    </tr>\n",
              "    <tr>\n",
              "      <th>3</th>\n",
              "      <td>3</td>\n",
              "      <td>presid obama spoke favor vaccin children fox s...</td>\n",
              "      <td>0</td>\n",
              "    </tr>\n",
              "    <tr>\n",
              "      <th>4</th>\n",
              "      <td>4</td>\n",
              "      <td>myfoxla arizona monitor hundr measl link disne...</td>\n",
              "      <td>0</td>\n",
              "    </tr>\n",
              "  </tbody>\n",
              "</table>\n",
              "</div>\n",
              "      <button class=\"colab-df-convert\" onclick=\"convertToInteractive('df-19954992-2130-4d50-8cd6-701e4bd4ead8')\"\n",
              "              title=\"Convert this dataframe to an interactive table.\"\n",
              "              style=\"display:none;\">\n",
              "        \n",
              "  <svg xmlns=\"http://www.w3.org/2000/svg\" height=\"24px\"viewBox=\"0 0 24 24\"\n",
              "       width=\"24px\">\n",
              "    <path d=\"M0 0h24v24H0V0z\" fill=\"none\"/>\n",
              "    <path d=\"M18.56 5.44l.94 2.06.94-2.06 2.06-.94-2.06-.94-.94-2.06-.94 2.06-2.06.94zm-11 1L8.5 8.5l.94-2.06 2.06-.94-2.06-.94L8.5 2.5l-.94 2.06-2.06.94zm10 10l.94 2.06.94-2.06 2.06-.94-2.06-.94-.94-2.06-.94 2.06-2.06.94z\"/><path d=\"M17.41 7.96l-1.37-1.37c-.4-.4-.92-.59-1.43-.59-.52 0-1.04.2-1.43.59L10.3 9.45l-7.72 7.72c-.78.78-.78 2.05 0 2.83L4 21.41c.39.39.9.59 1.41.59.51 0 1.02-.2 1.41-.59l7.78-7.78 2.81-2.81c.8-.78.8-2.07 0-2.86zM5.41 20L4 18.59l7.72-7.72 1.47 1.35L5.41 20z\"/>\n",
              "  </svg>\n",
              "      </button>\n",
              "      \n",
              "  <style>\n",
              "    .colab-df-container {\n",
              "      display:flex;\n",
              "      flex-wrap:wrap;\n",
              "      gap: 12px;\n",
              "    }\n",
              "\n",
              "    .colab-df-convert {\n",
              "      background-color: #E8F0FE;\n",
              "      border: none;\n",
              "      border-radius: 50%;\n",
              "      cursor: pointer;\n",
              "      display: none;\n",
              "      fill: #1967D2;\n",
              "      height: 32px;\n",
              "      padding: 0 0 0 0;\n",
              "      width: 32px;\n",
              "    }\n",
              "\n",
              "    .colab-df-convert:hover {\n",
              "      background-color: #E2EBFA;\n",
              "      box-shadow: 0px 1px 2px rgba(60, 64, 67, 0.3), 0px 1px 3px 1px rgba(60, 64, 67, 0.15);\n",
              "      fill: #174EA6;\n",
              "    }\n",
              "\n",
              "    [theme=dark] .colab-df-convert {\n",
              "      background-color: #3B4455;\n",
              "      fill: #D2E3FC;\n",
              "    }\n",
              "\n",
              "    [theme=dark] .colab-df-convert:hover {\n",
              "      background-color: #434B5C;\n",
              "      box-shadow: 0px 1px 3px 1px rgba(0, 0, 0, 0.15);\n",
              "      filter: drop-shadow(0px 1px 2px rgba(0, 0, 0, 0.3));\n",
              "      fill: #FFFFFF;\n",
              "    }\n",
              "  </style>\n",
              "\n",
              "      <script>\n",
              "        const buttonEl =\n",
              "          document.querySelector('#df-19954992-2130-4d50-8cd6-701e4bd4ead8 button.colab-df-convert');\n",
              "        buttonEl.style.display =\n",
              "          google.colab.kernel.accessAllowed ? 'block' : 'none';\n",
              "\n",
              "        async function convertToInteractive(key) {\n",
              "          const element = document.querySelector('#df-19954992-2130-4d50-8cd6-701e4bd4ead8');\n",
              "          const dataTable =\n",
              "            await google.colab.kernel.invokeFunction('convertToInteractive',\n",
              "                                                     [key], {});\n",
              "          if (!dataTable) return;\n",
              "\n",
              "          const docLinkHtml = 'Like what you see? Visit the ' +\n",
              "            '<a target=\"_blank\" href=https://colab.research.google.com/notebooks/data_table.ipynb>data table notebook</a>'\n",
              "            + ' to learn more about interactive tables.';\n",
              "          element.innerHTML = '';\n",
              "          dataTable['output_type'] = 'display_data';\n",
              "          await google.colab.output.renderOutput(dataTable, element);\n",
              "          const docLink = document.createElement('div');\n",
              "          docLink.innerHTML = docLinkHtml;\n",
              "          element.appendChild(docLink);\n",
              "        }\n",
              "      </script>\n",
              "    </div>\n",
              "  </div>\n",
              "  "
            ],
            "text/plain": [
              "   Unnamed: 0                                              tweet  label\n",
              "0           0  sip n shop come thru right marjai popularnobod...      0\n",
              "1           1          know famili take covid vaccin anytim soon      1\n",
              "2           2  msignoril immun mandatori period oklahoma let ...      2\n",
              "3           3  presid obama spoke favor vaccin children fox s...      0\n",
              "4           4  myfoxla arizona monitor hundr measl link disne...      0"
            ]
          },
          "metadata": {},
          "execution_count": 9
        }
      ],
      "source": [
        "#process on train data\n",
        "tweets_train['tweet']=tweets_train['tweet'].apply(preprocess_text)\n",
        "tweets_train['tweet']=tweets_train['tweet'].apply(remove_stopwords)\n",
        "tweets_train['tweet']= tweets_train['tweet'].apply(porterstemmer).copy()\n",
        "\n",
        "tweets_train.head()"
      ]
    },
    {
      "cell_type": "code",
      "source": [
        "#process on validation data\n",
        "tweets_val['tweet']=tweets_val['tweet'].apply(preprocess_text)\n",
        "tweets_val['tweet']=tweets_val['tweet'].apply(remove_stopwords)\n",
        "tweets_val['tweet']= tweets_val['tweet'].apply(porterstemmer).copy()\n",
        "\n",
        "tweets_val.head()"
      ],
      "metadata": {
        "id": "Tlrl_Q8Tu0Ng",
        "colab": {
          "base_uri": "https://localhost:8080/",
          "height": 206
        },
        "outputId": "7b5b4b16-2659-4615-a0aa-0454ea0815eb"
      },
      "execution_count": 10,
      "outputs": [
        {
          "output_type": "execute_result",
          "data": {
            "text/html": [
              "\n",
              "  <div id=\"df-2714cceb-8c04-457b-9243-ec731e242094\">\n",
              "    <div class=\"colab-df-container\">\n",
              "      <div>\n",
              "<style scoped>\n",
              "    .dataframe tbody tr th:only-of-type {\n",
              "        vertical-align: middle;\n",
              "    }\n",
              "\n",
              "    .dataframe tbody tr th {\n",
              "        vertical-align: top;\n",
              "    }\n",
              "\n",
              "    .dataframe thead th {\n",
              "        text-align: right;\n",
              "    }\n",
              "</style>\n",
              "<table border=\"1\" class=\"dataframe\">\n",
              "  <thead>\n",
              "    <tr style=\"text-align: right;\">\n",
              "      <th></th>\n",
              "      <th>Unnamed: 0</th>\n",
              "      <th>tweet</th>\n",
              "      <th>label</th>\n",
              "    </tr>\n",
              "  </thead>\n",
              "  <tbody>\n",
              "    <tr>\n",
              "      <th>0</th>\n",
              "      <td>0</td>\n",
              "      <td>user massiv surg covid death immedi vaccin rol...</td>\n",
              "      <td>1</td>\n",
              "    </tr>\n",
              "    <tr>\n",
              "      <th>1</th>\n",
              "      <td>1</td>\n",
              "      <td>requir vaccin school parent guardian children ...</td>\n",
              "      <td>0</td>\n",
              "    </tr>\n",
              "    <tr>\n",
              "      <th>2</th>\n",
              "      <td>2</td>\n",
              "      <td>kcstar two johnson counti children measl http ...</td>\n",
              "      <td>0</td>\n",
              "    </tr>\n",
              "    <tr>\n",
              "      <th>3</th>\n",
              "      <td>3</td>\n",
              "      <td>nv better state best worst vaccin kid http co ...</td>\n",
              "      <td>2</td>\n",
              "    </tr>\n",
              "    <tr>\n",
              "      <th>4</th>\n",
              "      <td>4</td>\n",
              "      <td>noth like kill w fear mt alyssamilano vaccin f...</td>\n",
              "      <td>2</td>\n",
              "    </tr>\n",
              "  </tbody>\n",
              "</table>\n",
              "</div>\n",
              "      <button class=\"colab-df-convert\" onclick=\"convertToInteractive('df-2714cceb-8c04-457b-9243-ec731e242094')\"\n",
              "              title=\"Convert this dataframe to an interactive table.\"\n",
              "              style=\"display:none;\">\n",
              "        \n",
              "  <svg xmlns=\"http://www.w3.org/2000/svg\" height=\"24px\"viewBox=\"0 0 24 24\"\n",
              "       width=\"24px\">\n",
              "    <path d=\"M0 0h24v24H0V0z\" fill=\"none\"/>\n",
              "    <path d=\"M18.56 5.44l.94 2.06.94-2.06 2.06-.94-2.06-.94-.94-2.06-.94 2.06-2.06.94zm-11 1L8.5 8.5l.94-2.06 2.06-.94-2.06-.94L8.5 2.5l-.94 2.06-2.06.94zm10 10l.94 2.06.94-2.06 2.06-.94-2.06-.94-.94-2.06-.94 2.06-2.06.94z\"/><path d=\"M17.41 7.96l-1.37-1.37c-.4-.4-.92-.59-1.43-.59-.52 0-1.04.2-1.43.59L10.3 9.45l-7.72 7.72c-.78.78-.78 2.05 0 2.83L4 21.41c.39.39.9.59 1.41.59.51 0 1.02-.2 1.41-.59l7.78-7.78 2.81-2.81c.8-.78.8-2.07 0-2.86zM5.41 20L4 18.59l7.72-7.72 1.47 1.35L5.41 20z\"/>\n",
              "  </svg>\n",
              "      </button>\n",
              "      \n",
              "  <style>\n",
              "    .colab-df-container {\n",
              "      display:flex;\n",
              "      flex-wrap:wrap;\n",
              "      gap: 12px;\n",
              "    }\n",
              "\n",
              "    .colab-df-convert {\n",
              "      background-color: #E8F0FE;\n",
              "      border: none;\n",
              "      border-radius: 50%;\n",
              "      cursor: pointer;\n",
              "      display: none;\n",
              "      fill: #1967D2;\n",
              "      height: 32px;\n",
              "      padding: 0 0 0 0;\n",
              "      width: 32px;\n",
              "    }\n",
              "\n",
              "    .colab-df-convert:hover {\n",
              "      background-color: #E2EBFA;\n",
              "      box-shadow: 0px 1px 2px rgba(60, 64, 67, 0.3), 0px 1px 3px 1px rgba(60, 64, 67, 0.15);\n",
              "      fill: #174EA6;\n",
              "    }\n",
              "\n",
              "    [theme=dark] .colab-df-convert {\n",
              "      background-color: #3B4455;\n",
              "      fill: #D2E3FC;\n",
              "    }\n",
              "\n",
              "    [theme=dark] .colab-df-convert:hover {\n",
              "      background-color: #434B5C;\n",
              "      box-shadow: 0px 1px 3px 1px rgba(0, 0, 0, 0.15);\n",
              "      filter: drop-shadow(0px 1px 2px rgba(0, 0, 0, 0.3));\n",
              "      fill: #FFFFFF;\n",
              "    }\n",
              "  </style>\n",
              "\n",
              "      <script>\n",
              "        const buttonEl =\n",
              "          document.querySelector('#df-2714cceb-8c04-457b-9243-ec731e242094 button.colab-df-convert');\n",
              "        buttonEl.style.display =\n",
              "          google.colab.kernel.accessAllowed ? 'block' : 'none';\n",
              "\n",
              "        async function convertToInteractive(key) {\n",
              "          const element = document.querySelector('#df-2714cceb-8c04-457b-9243-ec731e242094');\n",
              "          const dataTable =\n",
              "            await google.colab.kernel.invokeFunction('convertToInteractive',\n",
              "                                                     [key], {});\n",
              "          if (!dataTable) return;\n",
              "\n",
              "          const docLinkHtml = 'Like what you see? Visit the ' +\n",
              "            '<a target=\"_blank\" href=https://colab.research.google.com/notebooks/data_table.ipynb>data table notebook</a>'\n",
              "            + ' to learn more about interactive tables.';\n",
              "          element.innerHTML = '';\n",
              "          dataTable['output_type'] = 'display_data';\n",
              "          await google.colab.output.renderOutput(dataTable, element);\n",
              "          const docLink = document.createElement('div');\n",
              "          docLink.innerHTML = docLinkHtml;\n",
              "          element.appendChild(docLink);\n",
              "        }\n",
              "      </script>\n",
              "    </div>\n",
              "  </div>\n",
              "  "
            ],
            "text/plain": [
              "   Unnamed: 0                                              tweet  label\n",
              "0           0  user massiv surg covid death immedi vaccin rol...      1\n",
              "1           1  requir vaccin school parent guardian children ...      0\n",
              "2           2  kcstar two johnson counti children measl http ...      0\n",
              "3           3  nv better state best worst vaccin kid http co ...      2\n",
              "4           4  noth like kill w fear mt alyssamilano vaccin f...      2"
            ]
          },
          "metadata": {},
          "execution_count": 10
        }
      ]
    },
    {
      "cell_type": "code",
      "source": [
        "#define X and y values for train and validation dataset\n",
        "X_train = tweets_train[\"tweet\"]\n",
        "y_train = tweets_train[\"label\"]\n",
        "X_val = tweets_val[\"tweet\"]\n",
        "y_val = tweets_val[\"label\"]\n",
        "\n",
        "\n",
        "print(\"x_train's shape:\", X_train.shape)\n",
        "print(\"x_val's shape:\", X_val.shape)\n",
        "print(\"=========================\")\n",
        "print(\"y_train's shape:\", y_train.shape)\n",
        "print(\"y_val's shape:\", y_val.shape)\n",
        "\n",
        "train = pd.concat([X_train, y_train], axis=1)\n",
        "#print(train.shape)\n",
        "\n",
        "valid = pd.concat([X_val, y_val], axis=1)\n",
        "#print(valid.shape)"
      ],
      "metadata": {
        "id": "jvHqqD8OyIm3",
        "colab": {
          "base_uri": "https://localhost:8080/"
        },
        "outputId": "2350d84e-e5f6-46f0-c20d-9d9fe8fdbbf5"
      },
      "execution_count": 11,
      "outputs": [
        {
          "output_type": "stream",
          "name": "stdout",
          "text": [
            "x_train's shape: (15976,)\n",
            "x_val's shape: (2282,)\n",
            "=========================\n",
            "y_train's shape: (15976,)\n",
            "y_val's shape: (2282,)\n"
          ]
        }
      ]
    },
    {
      "cell_type": "markdown",
      "source": [
        "**Use torchtext library for dataset and build vocab**\n",
        "\n",
        "> *Field* for preprocessing\n",
        "\n",
        "> *TabularDataset* for loading the train and validation data (csv file)\n",
        "\n",
        "> *BucketIterator* for batching and padding"
      ],
      "metadata": {
        "id": "lvgEgMij2KtD"
      }
    },
    {
      "cell_type": "code",
      "source": [
        "#calculate mean and maximum sequence length of train dataset\n",
        "\n",
        "tweets_list=[]\n",
        "for x in tweets_train['tweet']:\n",
        "  tweets_list.append(x)\n",
        "\n",
        "print(np.max([len(x) for x in tweets_list]))\n",
        "print(np.mean([len(x) for x in tweets_list]))\n",
        "#print(len(tweets_list[1]))"
      ],
      "metadata": {
        "id": "yBSFBLPxDEID",
        "colab": {
          "base_uri": "https://localhost:8080/"
        },
        "outputId": "490f3723-2054-4397-ea7f-26cfe5486892"
      },
      "execution_count": 12,
      "outputs": [
        {
          "output_type": "stream",
          "name": "stdout",
          "text": [
            "627\n",
            "78.69767150726089\n"
          ]
        }
      ]
    },
    {
      "cell_type": "code",
      "source": [
        "TEXT = torchtext.legacy.data.Field(dtype=torch.long,sequential=True, tokenize=\"spacy\",batch_first=True)\n",
        "#Sequential= whether the datatype represents sequential data.\n",
        "#Batch_first=  Whether to produce tensors with the batch dimension first.\n",
        "LABEL = torchtext.legacy.data.LabelField(dtype=torch.long, sequential=False)\n",
        "\n",
        "os.mkdir('dataset')\n",
        "train.to_csv(\"/content/dataset/train.csv\", index=False)\n",
        "valid.to_csv(\"/content/dataset/valid.csv\", index=False)\n",
        "\n",
        "train_data, valid_data = torchtext.legacy.data.TabularDataset.splits( \n",
        "    path=\"/content/dataset/\", \n",
        "    train=\"train.csv\", \n",
        "    validation=\"valid.csv\", \n",
        "    format=\"csv\", \n",
        "    skip_header=True, \n",
        "    fields=[('tweet', TEXT), ('label', LABEL)])\n",
        "\n",
        "print(f'Number of training samples: {len(train_data)}')\n",
        "print(f'Number of validation samples: {len(valid_data)}')"
      ],
      "metadata": {
        "id": "V-t6gjVm0R1q",
        "colab": {
          "base_uri": "https://localhost:8080/"
        },
        "outputId": "d385a217-28b8-4449-f21d-dd894d1c87ae"
      },
      "execution_count": 13,
      "outputs": [
        {
          "output_type": "stream",
          "name": "stdout",
          "text": [
            "Number of training samples: 15976\n",
            "Number of validation samples: 2282\n"
          ]
        }
      ]
    },
    {
      "cell_type": "code",
      "source": [
        "TEXT.build_vocab(train_data, valid_data, vectors=torchtext.vocab.Vectors(\"/content/glove.twitter.27B.100d.txt\"),max_size=30000, min_freq=1)\n",
        "LABEL.build_vocab(train_data)\n",
        "\n",
        "#vocab_size= len(TEXT.vocab)\n",
        "print(f\"Unique tokens in TEXT vocab: {len(TEXT.vocab)}\")\n",
        "print(f\"Unique tokens in LABEL vocab: {len(LABEL.vocab)}\")\n",
        "#print(TEXT.vocab.vectors[TEXT.vocab.stoi['good']])"
      ],
      "metadata": {
        "id": "L_VdIi7T2HYx",
        "colab": {
          "base_uri": "https://localhost:8080/"
        },
        "outputId": "a34c3345-759b-4d29-f03d-eefcb3def774"
      },
      "execution_count": 14,
      "outputs": [
        {
          "output_type": "stream",
          "name": "stdout",
          "text": [
            "Unique tokens in TEXT vocab: 29838\n",
            "Unique tokens in LABEL vocab: 3\n"
          ]
        }
      ]
    },
    {
      "cell_type": "code",
      "source": [
        "os.mkdir('Glove_dictionary')\n",
        "\n",
        "# Save GloVe dictionary.\n",
        "#texts\n",
        "vocab_tweets_f = open(\"/content/Glove_dictionary/vocab_tweets.pkl\", \"wb\")\n",
        "pickle.dump(TEXT.vocab,vocab_tweets_f)\n",
        "vocab_tweets_f.close()\n",
        "\n",
        "#labels\n",
        "vocab_labels_f = open(\"/content/Glove_dictionary/vocab_labels.pkl\", \"wb\")\n",
        "pickle.dump(LABEL.vocab,vocab_labels_f)\n",
        "vocab_labels_f.close()\n",
        "\n",
        "# Load GloVe dictionary.\n",
        "#tweets\n",
        "vocab_tweets_f = open(\"/content/Glove_dictionary/vocab_tweets.pkl\", \"rb\")\n",
        "vocab_tweets = pickle.load(vocab_tweets_f)\n",
        "\n",
        "#labels\n",
        "vocab_labels_f = open(\"/content/Glove_dictionary/vocab_labels.pkl\", \"rb\")\n",
        "vocab_labels = pickle.load(vocab_labels_f)\n",
        "# glove_file.close()"
      ],
      "metadata": {
        "id": "eUTE109ENX3p"
      },
      "execution_count": 15,
      "outputs": []
    },
    {
      "cell_type": "code",
      "source": [
        "BATCH_SIZE = 64\n",
        "\n",
        "#Defines an iterator that batches examples of similar lengths together.\n",
        "# Sort key= sorting examples in order to batch together examples with similar lengths and minimize padding. \n",
        "train_iterator, valid_iterator = torchtext.legacy.data.BucketIterator.splits(\n",
        "    (train_data, valid_data), \n",
        "    sort_key=lambda x: len(x.tweet),\n",
        "    batch_size=BATCH_SIZE,\n",
        "    shuffle=True,\n",
        "    device=device)\n",
        "\n",
        "# Print number of batches per dataset.\n",
        "print('Created `train_iterator` with %d batches!'%len(train_iterator))\n",
        "print('Created `valid_iterator` with %d batches!'%len(valid_iterator))"
      ],
      "metadata": {
        "id": "OT5varopnMC4",
        "colab": {
          "base_uri": "https://localhost:8080/"
        },
        "outputId": "e4689ad3-51b4-4e8a-9436-bf209d2a4a0c"
      },
      "execution_count": 16,
      "outputs": [
        {
          "output_type": "stream",
          "name": "stdout",
          "text": [
            "Created `train_iterator` with 250 batches!\n",
            "Created `valid_iterator` with 36 batches!\n"
          ]
        }
      ]
    },
    {
      "cell_type": "code",
      "source": [
        "word_embeddings = vocab_tweets.vectors\n",
        "#print(word_embeddings[3])\n",
        "\n",
        "vocab_size= len(TEXT.vocab)\n",
        "print(vocab_size)"
      ],
      "metadata": {
        "id": "jIIu_V72hzax",
        "colab": {
          "base_uri": "https://localhost:8080/"
        },
        "outputId": "114ce498-4e2e-402f-f4bc-5e8f68c3f17c"
      },
      "execution_count": 17,
      "outputs": [
        {
          "output_type": "stream",
          "name": "stdout",
          "text": [
            "29838\n"
          ]
        }
      ]
    },
    {
      "cell_type": "markdown",
      "source": [
        "4. **Define cells**\n",
        "\n",
        "    a) LSTM cell\n",
        "\n",
        "    b) GRU cell\n"
      ],
      "metadata": {
        "id": "DvbBB_GCzNIS"
      }
    },
    {
      "cell_type": "code",
      "source": [
        "class SentimentRNN(nn.Module):\n",
        "   def __init__(self, cell_type, vocab_size, output_size, embedding_dim, hidden_dim, n_layers, word_embeddings, dropout_layers, bidirectional):\n",
        "        super(SentimentRNN, self).__init__()\n",
        "        \n",
        "        cells = { \"LSTM\"    : nn.LSTM,\n",
        "        \"GRU\"     : nn.GRU}   \n",
        "\n",
        "        self.output_size = output_size\n",
        "        self.embedding_dim = embedding_dim\n",
        "        self.n_layers = n_layers\n",
        "        self.hidden_dim = hidden_dim\n",
        "        self.cell_type = cell_type\n",
        "        self.dropout_layers = dropout_layers\n",
        "        self.bidirectional = bidirectional\n",
        "\n",
        "        #embedding_layer\n",
        "        self.word_embeddings = torch.nn.Embedding(vocab_size, embedding_dim, padding_idx=0)\n",
        "        self.word_embeddings.weight = torch.nn.Parameter(word_embeddings, requires_grad= False)\n",
        "\n",
        "        #LSTM or GRU basic cell\n",
        "        if cell_type == 'LSTM':\n",
        "           self.nn = nn.LSTM(input_size=self.embedding_dim, hidden_size=self.hidden_dim, num_layers=self.n_layers, bidirectional=self.bidirectional, batch_first=True)\n",
        "        elif cell_type == 'GRU':\n",
        "           self.nn = nn.GRU(input_size=self.embedding_dim, hidden_size=self.hidden_dim, num_layers=self.n_layers, bidirectional=self.bidirectional, batch_first=True)\n",
        "        else:\n",
        "            raise Exception(\"[Error] Unknown cell type. Currently supported: LSTM, GRU\")\n",
        "\n",
        "        #first dropout layer\n",
        "        if self.dropout_layers >= 1:\n",
        "            self.dropout_one = torch.nn.Dropout(0.4)\n",
        "\n",
        "        #linear(dense) layer\n",
        "        if self.bidirectional == True:\n",
        "           self.linear = torch.nn.Linear(hidden_dim*2, 36)\n",
        "        else:\n",
        "           self.linear = torch.nn.Linear(hidden_dim, 36)\n",
        "           \n",
        "        #second dropout layer\n",
        "        if self.dropout_layers == 2:\n",
        "           self.dropout_two = torch.nn.Dropout(0.3)\n",
        "\n",
        "        #second linear layer\n",
        "        self.linear2 = torch.nn.Linear(36, output_size)\n",
        "\n",
        "        #activation function softmax\n",
        "        #self.softmax = nn.Softmax(dim=0)\n",
        "\n",
        "        \n",
        "   def forward(self, x, hidden):\n",
        "\n",
        "        batch_size = x.size(0)\n",
        "        x = self.word_embeddings(x)\n",
        "\n",
        "        out, hidden = self.nn(x, hidden)\n",
        "\n",
        "        if self.bidirectional == True: \n",
        "          out = out.contiguous().view(-1, self.hidden_dim*2)\n",
        "        else:\n",
        "          out = out.contiguous().view(-1, self.hidden_dim)\n",
        "\n",
        "        if self.dropout_layers >=1:\n",
        "           out = self.dropout_one(out)\n",
        "\n",
        "        out = self.linear(out)   \n",
        "\n",
        "        if self.dropout_layers == 2:\n",
        "           out = self.dropout_two(out)\n",
        "\n",
        "        #out= self.softmax(out)\n",
        "        out = self.linear2(out)\n",
        "        #print(out.size())\n",
        "      \n",
        "        #take only the last batch\n",
        "        out = out.view(batch_size, -1, output_size)\n",
        "        out = out[:, -1, :]\n",
        "        #out  = F.log_softmax(out, dim=1)\n",
        "\n",
        " \n",
        "        return out.to(device), hidden\n",
        "\n",
        "\n",
        "   def init_hidden(self, batch_size):\n",
        "\n",
        "        #initialize hidden_states with zero(0)\n",
        "        weight = next(self.parameters()).data\n",
        "        \n",
        "        if self.bidirectional == True:\n",
        "           if self.cell_type == 'LSTM':\n",
        "              hidden = (weight.new(self.n_layers*2, batch_size, self.hidden_dim).zero_().to(device),\n",
        "                        weight.new(self.n_layers*2, batch_size, self.hidden_dim).zero_().to(device))\n",
        "           elif self.cell_type == 'GRU':\n",
        "              hidden = weight.new(self.n_layers*2, batch_size, self.hidden_dim).zero_().to(device)\n",
        "        else:\n",
        "           if self.cell_type == 'LSTM':\n",
        "              hidden = (weight.new(self.n_layers, batch_size, self.hidden_dim).zero_().to(device),\n",
        "                        weight.new(self.n_layers, batch_size, self.hidden_dim).zero_().to(device))\n",
        "           elif self.cell_type == 'GRU':\n",
        "              hidden = weight.new(self.n_layers, batch_size, self.hidden_dim).zero_().to(device)\n",
        "\n",
        "        \n",
        "\n",
        "        \n",
        "        return hidden\n"
      ],
      "metadata": {
        "id": "-oOOtf8Dc-Jw"
      },
      "execution_count": 18,
      "outputs": []
    },
    {
      "cell_type": "code",
      "source": [
        "#hyperparameters \n",
        "learning_rate = 0.001\n",
        "batch_size = 64\n",
        "output_size = 3\n",
        "num_layers = 2\n",
        "hidden_size = 64\n",
        "embedding_dim = 100\n",
        "dropout_layers= 2\n",
        "\n",
        "#cell_type options\n",
        "#cell_type='GRU'\n",
        "cell_type='LSTM'\n",
        "\n",
        "#define model\n",
        "model = SentimentRNN(cell_type, vocab_size=vocab_size, output_size=output_size, embedding_dim=embedding_dim, hidden_dim=hidden_size, n_layers=num_layers,word_embeddings=word_embeddings, dropout_layers= dropout_layers, bidirectional= True)\n",
        "model.to(device)\n",
        "print(model)\n",
        "\n",
        "#define optimizer and loss function\n",
        "optimizer = torch.optim.Adam(model.parameters(), lr=learning_rate)\n",
        "loss = nn.CrossEntropyLoss().to(device)"
      ],
      "metadata": {
        "id": "kaE6zKaNfw3v",
        "colab": {
          "base_uri": "https://localhost:8080/"
        },
        "outputId": "168b66df-a3e8-4966-f917-5e4627a16104"
      },
      "execution_count": 19,
      "outputs": [
        {
          "output_type": "stream",
          "name": "stdout",
          "text": [
            "SentimentRNN(\n",
            "  (word_embeddings): Embedding(29838, 100, padding_idx=0)\n",
            "  (nn): LSTM(100, 64, num_layers=2, batch_first=True, bidirectional=True)\n",
            "  (dropout_one): Dropout(p=0.4, inplace=False)\n",
            "  (linear): Linear(in_features=128, out_features=36, bias=True)\n",
            "  (dropout_two): Dropout(p=0.3, inplace=False)\n",
            "  (linear2): Linear(in_features=36, out_features=3, bias=True)\n",
            ")\n"
          ]
        }
      ]
    },
    {
      "cell_type": "code",
      "source": [
        "#save the model\n",
        "torch.save(model.state_dict(), 'model.pkl')"
      ],
      "metadata": {
        "id": "CbGAneBCLbPW"
      },
      "execution_count": 20,
      "outputs": []
    },
    {
      "cell_type": "markdown",
      "source": [
        "**5. TRAIN AND EVALUATION**"
      ],
      "metadata": {
        "id": "Qnww0O5uZ3O9"
      }
    },
    {
      "cell_type": "code",
      "source": [
        "def train_model(model, iterator, optimizer, loss_function, max_norm, cell_type, batch_size):\n",
        "  \n",
        "  epoch_loss = 0\n",
        "  epoch_acc=[]\n",
        "  epoch_f1=[]\n",
        "  epoch_precision=[]\n",
        "  epoch_recall=[]\n",
        "  \n",
        "  model.train()\n",
        "  hidden_st = model.init_hidden(batch_size)\n",
        "  \n",
        "  for batch in iterator:\n",
        "\n",
        "    if cell_type == 'LSTM':\n",
        "      hidden_st = tuple([each.data for each in hidden_st])\n",
        "    elif cell_type == 'GRU':\n",
        "      hidden_st.detach_()\n",
        "      hidden_st = hidden_st.detach()\n",
        "\n",
        "    inputs = batch.tweet.to(device)\n",
        "    labels = batch.label.to(device)\n",
        "    \n",
        "    if inputs.shape[0] == batch_size:\n",
        "    \n",
        "      optimizer.zero_grad()\n",
        "      #print(len(inputs))\n",
        "      \n",
        "      predictions, hidden_st = model.forward(inputs, hidden_st)\n",
        "      \n",
        "      loss = loss_function(predictions, labels)\n",
        "      loss.backward()\n",
        " \n",
        "      epoch_loss += loss.item()\n",
        "\n",
        "      nn.utils.clip_grad_norm_(model.parameters(), max_norm)\n",
        "\n",
        "      #print(type(prediction))\n",
        "      #print(type(labels))\n",
        "\n",
        "      # ===== METRICS FOR TRAIN SET ==========\n",
        "      _, predicted = torch.max(predictions.data, 1)\n",
        "      predicted = predicted.to(\"cpu\").tolist()\n",
        "      epoch_acc.append(accuracy_score(predicted, labels.tolist()))\n",
        "      epoch_f1.append(f1_score(predicted, labels.tolist(), average='macro'))\n",
        "      epoch_precision.append(precision_score(predicted, labels.tolist(), average='macro'))\n",
        "      epoch_recall.append(recall_score(predicted, labels.tolist(), average='macro', zero_division=0))\n",
        "\n",
        "      optimizer.step()\n",
        "  \n",
        "  \n",
        "  return epoch_loss / len(iterator), sum(epoch_acc)/len(epoch_acc), sum(epoch_f1)/len(epoch_f1), sum(epoch_precision)/len(epoch_precision), sum(epoch_recall)/len(epoch_recall)"
      ],
      "metadata": {
        "id": "fbES2zSGSxEL"
      },
      "execution_count": 21,
      "outputs": []
    },
    {
      "cell_type": "code",
      "source": [
        "def model_eval(model, iterator, loss_function, cell_type, batch_size):\n",
        "  \n",
        "  val_epoch_loss = 0\n",
        "  val_epoch_acc = []\n",
        "  val_epoch_f1=[]\n",
        "  val_epoch_precision=[]\n",
        "  val_epoch_recall=[]\n",
        "  \n",
        "  model.eval()\n",
        "  hidden_st = model.init_hidden(batch_size)\n",
        "\n",
        "  with torch.no_grad():\n",
        "  \n",
        "    for batch in iterator:\n",
        "      \n",
        "      if cell_type == 'LSTM':\n",
        "        hidden_st = tuple([each.data for each in hidden_st])\n",
        "      elif cell_type == 'GRU':\n",
        "        hidden_st.detach_()\n",
        "        hidden_st = hidden_st.detach()\n",
        "\n",
        "      x_val = batch.tweet.to(device)\n",
        "      y_val = batch.label.to(device)\n",
        "\n",
        "\n",
        "      if x_val.shape[0] == batch_size:\n",
        "\n",
        "        predictions, hidden_st = model.forward(x_val, hidden_st)\n",
        "        \n",
        "        loss_val = loss_function(predictions, y_val)\n",
        "        val_epoch_loss += loss_val.item()\n",
        "\n",
        "        # ===== METRICS FOR VALIDATION SET ==========\n",
        "        _, predicted = torch.max(predictions.data, 1)\n",
        "        predicted = predicted.to(\"cpu\").tolist()\n",
        "        val_epoch_acc.append(accuracy_score(predicted, y_val.tolist()))\n",
        "        val_epoch_f1.append(f1_score(predicted, y_val.tolist(), average='macro'))\n",
        "        val_epoch_precision.append(precision_score(predicted, y_val.tolist(), average='macro'))\n",
        "        val_epoch_recall.append(recall_score(predicted, y_val.tolist(), average='macro', zero_division=0))\n",
        "        \n",
        "        \n",
        "      \n",
        "  return val_epoch_loss / len(iterator), sum(val_epoch_acc)/len(val_epoch_acc), sum(val_epoch_f1)/len(val_epoch_f1), sum(val_epoch_precision)/len(val_epoch_precision), sum(val_epoch_recall)/len(val_epoch_recall)"
      ],
      "metadata": {
        "id": "-ndh_NlAW-1f"
      },
      "execution_count": 22,
      "outputs": []
    },
    {
      "cell_type": "code",
      "source": [
        "#set hyperparameters\n",
        "\n",
        "#LSTM cell\n",
        "num_epochs= 10\n",
        "clip= 3 #for regularization\n",
        "\n",
        "#GRU cell\n",
        "#num_epochs=5\n",
        "#clip= 5\n",
        "batch_size= 64\n",
        "\n",
        "#rnn cell type\n",
        "cell_type= 'LSTM'\n",
        "#cell_type= 'GRU'\n",
        "\n",
        "\n",
        "\n",
        "train_loss=[]\n",
        "train_accuracy=[]\n",
        "val_loss=[]\n",
        "val_accuracy=[]\n",
        "index= 0\n",
        "for epoch in range(num_epochs):\n",
        "  loss_train, acc_train, f1_train, precision_train, recall_train = train_model(model, train_iterator, optimizer, loss, clip, cell_type, batch_size)\n",
        "  valid_loss, val_acc, val_f1, val_precision, val_recall = model_eval(model, valid_iterator, loss, cell_type, batch_size)\n",
        "  index +=1\n",
        "\n",
        "  train_loss.append(loss_train)\n",
        "  train_accuracy.append(acc_train)\n",
        "  val_loss.append(valid_loss)\n",
        "  val_accuracy.append(val_acc)\n",
        "\n",
        "  print(f' EPOCH: {index} -> Train Loss: {loss_train:.3f},  Acc train: {acc_train: .3f},  F1 train: {f1_train: .3f}, Precision train: {precision_train: .3f}, Recall train: {recall_train: .3f}, Val Loss: {valid_loss:.3f},  Acc valid: {val_acc: .3f},  F1 valid: {val_f1: .3f}, Precision valid: {val_precision: .3f}, Recall valid: {val_recall: .3f}')\n"
      ],
      "metadata": {
        "id": "ssBZE2EWicHB",
        "colab": {
          "base_uri": "https://localhost:8080/"
        },
        "outputId": "5612d04b-7059-465e-eca3-e8c5e1106c3e"
      },
      "execution_count": 23,
      "outputs": [
        {
          "output_type": "stream",
          "name": "stdout",
          "text": [
            " EPOCH: 1 -> Train Loss: 0.973,  Acc train:  0.484,  F1 train:  0.308, Precision train:  0.362, Recall train:  0.313, Val Loss: 1.010,  Acc valid:  0.462,  F1 valid:  0.273, Precision valid:  0.369, Recall valid:  0.379\n",
            " EPOCH: 2 -> Train Loss: 0.917,  Acc train:  0.573,  F1 train:  0.400, Precision train:  0.438, Recall train:  0.399, Val Loss: 1.081,  Acc valid:  0.449,  F1 valid:  0.375, Precision valid:  0.424, Recall valid:  0.451\n",
            " EPOCH: 3 -> Train Loss: 0.950,  Acc train:  0.514,  F1 train:  0.312, Precision train:  0.383, Recall train:  0.316, Val Loss: 1.009,  Acc valid:  0.482,  F1 valid:  0.303, Precision valid:  0.386, Recall valid:  0.424\n",
            " EPOCH: 4 -> Train Loss: 0.888,  Acc train:  0.597,  F1 train:  0.426, Precision train:  0.458, Recall train:  0.439, Val Loss: 0.990,  Acc valid:  0.501,  F1 valid:  0.324, Precision valid:  0.401, Recall valid:  0.405\n",
            " EPOCH: 5 -> Train Loss: 0.885,  Acc train:  0.598,  F1 train:  0.431, Precision train:  0.463, Recall train:  0.454, Val Loss: 0.995,  Acc valid:  0.520,  F1 valid:  0.398, Precision valid:  0.443, Recall valid:  0.486\n",
            " EPOCH: 6 -> Train Loss: 0.868,  Acc train:  0.610,  F1 train:  0.453, Precision train:  0.478, Recall train:  0.491, Val Loss: 0.961,  Acc valid:  0.515,  F1 valid:  0.401, Precision valid:  0.441, Recall valid:  0.465\n",
            " EPOCH: 7 -> Train Loss: 0.850,  Acc train:  0.623,  F1 train:  0.473, Precision train:  0.494, Recall train:  0.525, Val Loss: 0.955,  Acc valid:  0.516,  F1 valid:  0.418, Precision valid:  0.449, Recall valid:  0.463\n",
            " EPOCH: 8 -> Train Loss: 0.825,  Acc train:  0.638,  F1 train:  0.495, Precision train:  0.510, Recall train:  0.552, Val Loss: 0.989,  Acc valid:  0.508,  F1 valid:  0.396, Precision valid:  0.439, Recall valid:  0.488\n",
            " EPOCH: 9 -> Train Loss: 0.809,  Acc train:  0.647,  F1 train:  0.515, Precision train:  0.526, Recall train:  0.583, Val Loss: 0.965,  Acc valid:  0.508,  F1 valid:  0.422, Precision valid:  0.462, Recall valid:  0.479\n",
            " EPOCH: 10 -> Train Loss: 0.804,  Acc train:  0.648,  F1 train:  0.534, Precision train:  0.538, Recall train:  0.599, Val Loss: 0.952,  Acc valid:  0.507,  F1 valid:  0.388, Precision valid:  0.439, Recall valid:  0.486\n"
          ]
        }
      ]
    },
    {
      "cell_type": "markdown",
      "source": [
        "**6. LEARNING CURVES**\n",
        "\n",
        "(plot loss & accuracy for train and validation set)"
      ],
      "metadata": {
        "id": "Q9-ccfJ1ZyXf"
      }
    },
    {
      "cell_type": "code",
      "source": [
        "plt.plot(train_loss)\n",
        "plt.plot(val_loss)\n",
        "plt.xlabel('epoch')\n",
        "plt.ylabel('Loss')\n",
        "plt.legend(['Train','Valid'])\n",
        "plt.title('Train vs Valid Loss')\n",
        " \n",
        "plt.show()"
      ],
      "metadata": {
        "id": "jwcSRNj5MR7_",
        "colab": {
          "base_uri": "https://localhost:8080/",
          "height": 295
        },
        "outputId": "8166d512-83d8-4223-954f-2268f290238b"
      },
      "execution_count": 24,
      "outputs": [
        {
          "output_type": "display_data",
          "data": {
            "image/png": "[encoded data removed]",
            "text/plain": [
              "<Figure size 432x288 with 1 Axes>"
            ]
          },
          "metadata": {
            "needs_background": "light"
          }
        }
      ]
    },
    {
      "cell_type": "code",
      "source": [
        "plt.plot(train_accuracy)\n",
        "plt.plot(val_accuracy)\n",
        "plt.xlabel('epoch')\n",
        "plt.ylabel('Accuracy')\n",
        "plt.legend(['Train','Valid'])\n",
        "plt.title('Train vs Valid Accuracy')\n",
        " \n",
        "plt.show()"
      ],
      "metadata": {
        "id": "dDEQhu4lk6B0",
        "colab": {
          "base_uri": "https://localhost:8080/",
          "height": 295
        },
        "outputId": "e0616380-d776-4574-83a6-5fb140b6b1e2"
      },
      "execution_count": 25,
      "outputs": [
        {
          "output_type": "display_data",
          "data": {
            "image/png": "[encoded data removed]",
            "text/plain": [
              "<Figure size 432x288 with 1 Axes>"
            ]
          },
          "metadata": {
            "needs_background": "light"
          }
        }
      ]
    },
    {
      "cell_type": "markdown",
      "source": [
        "**7. ROC CURVE**"
      ],
      "metadata": {
        "id": "5yCLJ55rahA8"
      }
    },
    {
      "cell_type": "code",
      "source": [
        "def Roc_curve(y_true,y_pred):\n",
        "\n",
        "    y = label_binarize(y_true, classes=[0, 1, 2])\n",
        "    n_classes = y.shape[1]\n",
        "    lw = 2\n",
        "\n",
        "\n",
        "    # Compute ROC curve and ROC area for each class\n",
        "    fpr = dict()\n",
        "    tpr = dict()\n",
        "    roc_auc = dict()\n",
        "    for i in range(n_classes):\n",
        "        fpr[i], tpr[i], _ = roc_curve(y[:, i], y_pred[:, i])\n",
        "        roc_auc[i] = auc(fpr[i], tpr[i])\n",
        "\n",
        "    # Compute micro-average ROC curve and ROC area\n",
        "    fpr[\"micro\"], tpr[\"micro\"], _ = roc_curve(y.ravel(), y_pred.ravel())\n",
        "    roc_auc[\"micro\"] = auc(fpr[\"micro\"], tpr[\"micro\"])\n",
        "    # First aggregate all false positive rates\n",
        "    all_fpr = np.unique(np.concatenate([fpr[i] for i in range(n_classes)]))\n",
        "\n",
        "    # Then interpolate all ROC curves at this points\n",
        "    mean_tpr = np.zeros_like(all_fpr)\n",
        "    for i in range(n_classes):\n",
        "        mean_tpr += interp(all_fpr, fpr[i], tpr[i])\n",
        "\n",
        "    # Finally average it and compute AUC\n",
        "    mean_tpr /= n_classes\n",
        "\n",
        "    fpr[\"macro\"] = all_fpr\n",
        "    tpr[\"macro\"] = mean_tpr\n",
        "    roc_auc[\"macro\"] = auc(fpr[\"macro\"], tpr[\"macro\"])\n",
        "\n",
        "    # Plot all ROC curves\n",
        "    plt.figure()\n",
        "    plt.plot(\n",
        "        fpr[\"micro\"],\n",
        "        tpr[\"micro\"],\n",
        "        label=\"micro-average ROC curve (area = {0:0.2f})\".format(roc_auc[\"micro\"]),\n",
        "        color=\"deeppink\",\n",
        "        linestyle=\":\",\n",
        "        linewidth=4,\n",
        "    )\n",
        "\n",
        "    plt.plot(\n",
        "        fpr[\"macro\"],\n",
        "        tpr[\"macro\"],\n",
        "        label=\"macro-average ROC curve (area = {0:0.2f})\".format(roc_auc[\"macro\"]),\n",
        "        color=\"navy\",\n",
        "        linestyle=\":\",\n",
        "        linewidth=4,\n",
        "    )\n",
        "\n",
        "    colors = cycle([\"aqua\", \"darkorange\", \"cornflowerblue\"])\n",
        "    for i, color in zip(range(n_classes), colors):\n",
        "        plt.plot(\n",
        "            fpr[i],\n",
        "            tpr[i],\n",
        "            color=color,\n",
        "            lw=lw,\n",
        "            label=\"ROC curve of class {0} (area = {1:0.2f})\".format(i, roc_auc[i]),\n",
        "        )\n",
        "\n",
        "    plt.plot([0, 1], [0, 1], \"k--\", lw=lw)\n",
        "    plt.xlim([0.0, 1.0])\n",
        "    plt.ylim([0.0, 1.05])\n",
        "    plt.xlabel(\"False Positive Rate\")\n",
        "    plt.ylabel(\"True Positive Rate\")\n",
        "    plt.title(\"Some extension of Receiver operating characteristic to multiclass\")\n",
        "    plt.legend(loc=\"lower right\")\n",
        "\n",
        "    return plt.show()"
      ],
      "metadata": {
        "id": "Yp9xMoPFPGpB"
      },
      "execution_count": 26,
      "outputs": []
    },
    {
      "cell_type": "markdown",
      "source": [
        "**8. PREDICTIONS ON TEST SET**"
      ],
      "metadata": {
        "id": "E6vU2RAelqS0"
      }
    },
    {
      "cell_type": "code",
      "source": [
        "#PREPROCESS ON THE TEST SET\n",
        "\n",
        "tweets_test = pd.read_csv(\"vaccine_validation_set.csv\")\n",
        "print(\"Test set shape:\", tweets_test.shape)\n",
        "\n",
        "tweets_test['tweet']=tweets_test['tweet'].apply(preprocess_text)\n",
        "tweets_test['tweet']=tweets_test['tweet'].apply(remove_stopwords)\n",
        "tweets_test['tweet']= tweets_test['tweet'].apply(porterstemmer).copy()\n",
        "print(\"Preprocess done\")\n",
        "\n",
        "X_test = tweets_test[\"tweet\"]\n",
        "y_test = tweets_test[\"label\"]\n",
        "print(\"x_test shape:\", X_test.shape)\n",
        "print(\"y_test shape:\", y_test.shape)\n",
        "\n",
        "test = pd.concat([X_test, y_test], axis=1)\n",
        "test.to_csv(\"/content/dataset/test.csv\", index=False)\n",
        "print(\"test set has been downloaded \")\n",
        "\n",
        "test_data = torchtext.legacy.data.TabularDataset( \n",
        "    path=\"/content/dataset/test.csv\", \n",
        "    format=\"csv\", \n",
        "    skip_header=True, \n",
        "    fields=[('tweet', TEXT), ('label', LABEL)])\n",
        "\n",
        "\n",
        "print(f'Number of testing samples: {len(test_data)}')\n",
        "\n",
        "TEXT.build_vocab(test_data, vectors=torchtext.vocab.Vectors(\"/content/glove.twitter.27B.100d.txt\"),max_size=20000, min_freq=3)\n",
        "LABEL.build_vocab(train_data)\n",
        "\n",
        "vocab_size= len(TEXT.vocab)\n",
        "print(\"===============================================\")\n",
        "print(f\"Unique tokens in TEXT (test) vocab: {len(TEXT.vocab)}\")\n",
        "print(f\"Unique tokens in LABEL (test) vocab: {len(LABEL.vocab)}\")\n",
        "\n",
        "test_iterator = torchtext.legacy.data.BucketIterator(\n",
        "    test_data, \n",
        "    sort_key=lambda x: len(x.tweet),\n",
        "    batch_size=BATCH_SIZE,\n",
        "    shuffle=True,\n",
        "    device=device)\n",
        "\n",
        "# Print number of batches per dataset.\n",
        "print(\"===============================================\")\n",
        "print('Created `test_iterator` with %d batches!'%len(test_iterator))"
      ],
      "metadata": {
        "id": "tF65T8HOmJOM",
        "colab": {
          "base_uri": "https://localhost:8080/"
        },
        "outputId": "03e0094a-8639-4220-ebfc-64beb632aeeb"
      },
      "execution_count": 27,
      "outputs": [
        {
          "output_type": "stream",
          "name": "stdout",
          "text": [
            "Test set shape: (2282, 3)\n",
            "Preprocess done\n",
            "x_test shape: (2282,)\n",
            "y_test shape: (2282,)\n",
            "test set has been downloaded \n",
            "Number of testing samples: 2282\n",
            "===============================================\n",
            "Unique tokens in TEXT (test) vocab: 1500\n",
            "Unique tokens in LABEL (test) vocab: 3\n",
            "===============================================\n",
            "Created `test_iterator` with 36 batches!\n"
          ]
        }
      ]
    },
    {
      "cell_type": "code",
      "source": [
        "def evaluation_test(model, iterator, batch_size):\n",
        "  model.eval()\n",
        "  h = model.init_hidden(batch_size)\n",
        "\n",
        "  test_accuracy=[]\n",
        "  test_f1=[]\n",
        "  test_precision=[]\n",
        "  test_recall=[]\n",
        "  predictions_list=[]\n",
        "  y_test_list=[]\n",
        "  prediction_list=[]\n",
        "  with torch.no_grad():\n",
        "    for idx, batch in enumerate(tqdm(test_iterator)):\n",
        "      if model.cell_type == 'LSTM':\n",
        "        h = tuple([e.data for e in h])\n",
        "      elif model.cell_type == 'GRU':\n",
        "        h.detach_()\n",
        "        h = h.detach()\n",
        "\n",
        "      x_test = batch.tweet\n",
        "      y_test = batch.label\n",
        "      y_test = y_test.type(torch.LongTensor)\n",
        "\n",
        "      x_test = x_test.to(device)\n",
        "      y_test = y_test.to(device)\n",
        "\n",
        "      if x_test.shape[0] == batch_size:\n",
        "        \n",
        "\n",
        "          prediction, h = model(x_test, h)\n",
        "      \n",
        "\n",
        "          _, predicted = torch.max(prediction, 1)\n",
        "          predicted = predicted.to(\"cpu\").tolist()\n",
        "          predictions_list.append(predicted)\n",
        "          y_test_list.append(y_test.tolist())\n",
        "          test_accuracy.append(accuracy_score(predicted, y_test.tolist()))\n",
        "          test_f1.append(f1_score(predicted, y_test.tolist(), average='weighted'))\n",
        "          test_precision.append(precision_score(predicted, y_test.tolist(),  average='weighted'))\n",
        "          test_recall.append(recall_score(predicted, y_test.tolist(),  average='weighted', zero_division=0))\n",
        "  \n",
        "  roc_curve = Roc_curve(y_test,prediction)\n",
        "\n",
        "  return test_accuracy, test_f1, test_precision, test_recall, predictions_list, y_test_list, roc_curve\n",
        "   "
      ],
      "metadata": {
        "id": "QW1fLu8r6DhB"
      },
      "execution_count": 28,
      "outputs": []
    },
    {
      "cell_type": "code",
      "source": [
        "test_accuracy, test_f1, test_precision, test_recall, predictions_list, y_test_list, roc_curve = evaluation_test(model, test_iterator, batch_size)\n",
        "\n",
        "accuracy= np.mean(test_accuracy)\n",
        "f1 = np.mean(test_f1)\n",
        "precision = np.mean(test_precision)\n",
        "recall = np.mean(test_recall)\n",
        "\n",
        "\n",
        "#print metrics on test set\n",
        "print(f'\\n\\n Accuracy on test set:', accuracy*100)\n",
        "print(f'\\n\\n F1 score on test set:', f1*100)\n",
        "print(f'\\n\\n Precision on test set:', precision*100)\n",
        "print(f'\\n\\n Recall on test set:', recall*100)\n"
      ],
      "metadata": {
        "id": "_c8T0XVjlqAj",
        "colab": {
          "base_uri": "https://localhost:8080/",
          "height": 558
        },
        "outputId": "cb387912-91a0-411c-9496-d89bd4074e8e"
      },
      "execution_count": 29,
      "outputs": [
        {
          "output_type": "stream",
          "name": "stderr",
          "text": [
            "100%|██████████| 36/36 [00:01<00:00, 30.47it/s]\n",
            "/usr/local/lib/python3.7/dist-packages/ipykernel_launcher.py:25: DeprecationWarning: scipy.interp is deprecated and will be removed in SciPy 2.0.0, use numpy.interp instead\n"
          ]
        },
        {
          "output_type": "display_data",
          "data": {
            "image/png": "[encoded data removed]",
            "text/plain": [
              "<Figure size 432x288 with 1 Axes>"
            ]
          },
          "metadata": {
            "needs_background": "light"
          }
        },
        {
          "output_type": "stream",
          "name": "stdout",
          "text": [
            "\n",
            "\n",
            " Accuracy on test set: 47.410714285714285\n",
            "\n",
            "\n",
            " F1 score on test set: 49.95427467554566\n",
            "\n",
            "\n",
            " Precision on test set: 56.013289412446646\n",
            "\n",
            "\n",
            " Recall on test set: 47.410714285714285\n"
          ]
        }
      ]
    },
    {
      "cell_type": "code",
      "source": [
        "preds=[]\n",
        "actual_y=[]\n",
        "\n",
        "for batches_test in predictions_list:\n",
        "  for batch_test in batches_test:\n",
        "      preds.append(batch_test)\n",
        "\n",
        "for batches in y_test_list:\n",
        "  for batch in batches:\n",
        "     actual_y.append(batch)\n",
        "\n",
        "target_names=['0','2','1']\n",
        "print(classification_report(actual_y,preds,target_names=target_names))"
      ],
      "metadata": {
        "id": "jV2zJFvaHkbX",
        "colab": {
          "base_uri": "https://localhost:8080/"
        },
        "outputId": "f2a9a9fb-e62d-4255-a3ad-e9bba2f984c4"
      },
      "execution_count": 30,
      "outputs": [
        {
          "output_type": "stream",
          "name": "stdout",
          "text": [
            "              precision    recall  f1-score   support\n",
            "\n",
            "           0       0.54      0.45      0.49      1044\n",
            "           2       0.45      0.64      0.53       904\n",
            "           1       0.15      0.04      0.06       292\n",
            "\n",
            "    accuracy                           0.47      2240\n",
            "   macro avg       0.38      0.38      0.36      2240\n",
            "weighted avg       0.45      0.47      0.45      2240\n",
            "\n"
          ]
        }
      ]
    }
  ]
}